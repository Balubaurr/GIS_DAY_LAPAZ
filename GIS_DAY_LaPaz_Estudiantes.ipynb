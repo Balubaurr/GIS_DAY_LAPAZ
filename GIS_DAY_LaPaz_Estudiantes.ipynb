{
  "nbformat": 4,
  "nbformat_minor": 0,
  "metadata": {
    "colab": {
      "provenance": [],
      "authorship_tag": "ABX9TyP6e0jKpxgpXsycNDL7Nw0Z",
      "include_colab_link": true
    },
    "kernelspec": {
      "name": "python3",
      "display_name": "Python 3"
    },
    "language_info": {
      "name": "python"
    }
  },
  "cells": [
    {
      "cell_type": "markdown",
      "metadata": {
        "id": "view-in-github",
        "colab_type": "text"
      },
      "source": [
        "<a href=\"https://colab.research.google.com/github/Balubaurr/GIS_DAY_LAPAZ/blob/main/GIS_DAY_LaPaz_Estudiantes.ipynb\" target=\"_parent\"><img src=\"https://colab.research.google.com/assets/colab-badge.svg\" alt=\"Open In Colab\"/></a>"
      ]
    },
    {
      "cell_type": "markdown",
      "source": [
        "# **Taller Integrando SIG y Machine Learning en el análisis de la pesca incidental de mamíferos marinos**\n",
        "\n",
        "\n",
        "---\n",
        "Hola, gracias por interesarte en el curso. Este taller te acompañara a manera de guia, para integrar herramientas de IA y SIG en la evaluación de Pesca Incidental de Mamíferos marinos.\n",
        "\n",
        "Vamos a realizar una aproximación a Python, y a lo largo de su desarrollo espero sientas que es facil manejar esta herramienta.\n",
        "\n",
        "**¡VAMOS!**\n"
      ],
      "metadata": {
        "id": "dH9RTFk9wUkJ"
      }
    },
    {
      "cell_type": "code",
      "source": [
        "#Cuando escribimos líneas de código es importante dejar claro que hace parte de nuestros análisis y\n",
        " #que es texto, para así poder interactuar con el programa.\n",
        "\n",
        "#Generalmente usamos el símbolo \"#\"\" para indicar a Python que esto es una línea de texto.\n"
      ],
      "metadata": {
        "id": "g7agXftSzziL"
      },
      "execution_count": null,
      "outputs": []
    },
    {
      "cell_type": "code",
      "source": [
        "# Nociones generales. podemos hacer asignación de variables de la siguiente manera\n",
        "\n",
        "a = 1\n",
        "b = 2\n",
        "print(b)"
      ],
      "metadata": {
        "id": "cc2457mSzb5K"
      },
      "execution_count": null,
      "outputs": []
    },
    {
      "cell_type": "code",
      "source": [
        "#Incluso podemos interactuar con las variables que asignamos\n",
        "\n",
        "a + b"
      ],
      "metadata": {
        "id": "8OTuJF4n0hZd"
      },
      "execution_count": null,
      "outputs": []
    },
    {
      "cell_type": "code",
      "source": [
        "# Esta es una mejor manera de escribirlas\n",
        "\n",
        "c = a + b\n"
      ],
      "metadata": {
        "id": "MJUaS52B0vVG"
      },
      "execution_count": null,
      "outputs": []
    },
    {
      "cell_type": "code",
      "source": [
        "# Para ver su resultado podemos usar \"print\"\n",
        "print(c)"
      ],
      "metadata": {
        "id": "kSXFRm502X57"
      },
      "execution_count": null,
      "outputs": []
    },
    {
      "cell_type": "code",
      "source": [
        "# Ahora podemos crear una función\n",
        "\n",
        "def add1(x):\n",
        "    \"\"\"\n",
        "    add 1 to x\n",
        "    \"\"\"\n",
        "\n",
        "    b = x + 1;\n",
        "\n",
        "    return b\n",
        "\n",
        "    help(add1)\n",
        "\n"
      ],
      "metadata": {
        "id": "R9m_utJw2gQg"
      },
      "execution_count": null,
      "outputs": []
    },
    {
      "cell_type": "code",
      "source": [
        "add1(9)"
      ],
      "metadata": {
        "id": "YXoDZrR73anC"
      },
      "execution_count": null,
      "outputs": []
    },
    {
      "cell_type": "code",
      "source": [
        "help(add1)"
      ],
      "metadata": {
        "id": "A0oI8VUJ3i0C"
      },
      "execution_count": null,
      "outputs": []
    }
  ]
}