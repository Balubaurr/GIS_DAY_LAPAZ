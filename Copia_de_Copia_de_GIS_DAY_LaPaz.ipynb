{
  "nbformat": 4,
  "nbformat_minor": 0,
  "metadata": {
    "colab": {
      "provenance": [],
      "authorship_tag": "ABX9TyPwHRFJMhOez/dtV332TBFv",
      "include_colab_link": true
    },
    "kernelspec": {
      "name": "python3",
      "display_name": "Python 3"
    },
    "language_info": {
      "name": "python"
    }
  },
  "cells": [
    {
      "cell_type": "markdown",
      "metadata": {
        "id": "view-in-github",
        "colab_type": "text"
      },
      "source": [
        "<a href=\"https://colab.research.google.com/github/Balubaurr/GIS_DAY_LAPAZ/blob/main/Copia_de_Copia_de_GIS_DAY_LaPaz.ipynb\" target=\"_parent\"><img src=\"https://colab.research.google.com/assets/colab-badge.svg\" alt=\"Open In Colab\"/></a>"
      ]
    },
    {
      "cell_type": "markdown",
      "source": [
        "# **Taller Integrando SIG y Machine Learning en el análisis de la pesca incidental de mamíferos marinos**\n",
        "\n",
        "\n",
        "---\n",
        "Hola, gracias por interesarte en el curso. Este taller te acompañara a manera de guia, para integrar herramientas de IA y SIG en la evaluación de Pesca Incidental de Mamíferos marinos.\n",
        "\n",
        "Vamos a realizar una aproximación a Python, y a lo largo de su desarrollo espero sientas que es facil manejar esta herramienta.\n",
        "\n",
        "**¡VAMOS!**\n"
      ],
      "metadata": {
        "id": "dH9RTFk9wUkJ"
      }
    },
    {
      "cell_type": "code",
      "source": [
        "#Cuando escribimos líneas de código es importante dejar claro que hace parte de nuestros análisis y\n",
        " #que es texto, para así poder interactuar con el programa.\n",
        "\n",
        "#Generalmente usamos el símbolo \"#\"\" para indicar a Python que esto es una línea de texto.\n"
      ],
      "metadata": {
        "id": "g7agXftSzziL"
      },
      "execution_count": null,
      "outputs": []
    },
    {
      "cell_type": "code",
      "source": [
        "# Nociones generales. podemos hacer asignación de variables de la siguiente manera\n",
        "\n",
        "a = 1\n",
        "b = 2\n",
        "print(b)"
      ],
      "metadata": {
        "id": "cc2457mSzb5K"
      },
      "execution_count": null,
      "outputs": []
    },
    {
      "cell_type": "code",
      "source": [
        "#Incluso podemos interactuar con las variables que asignamos\n",
        "\n",
        "a + b"
      ],
      "metadata": {
        "id": "8OTuJF4n0hZd"
      },
      "execution_count": null,
      "outputs": []
    },
    {
      "cell_type": "code",
      "source": [
        "# Esta es una mejor manera de escribirlas\n",
        "\n",
        "c = a + b\n"
      ],
      "metadata": {
        "id": "MJUaS52B0vVG"
      },
      "execution_count": null,
      "outputs": []
    },
    {
      "cell_type": "code",
      "source": [
        "# Para ver su resultado podemos usar \"print\"\n",
        "print(c)"
      ],
      "metadata": {
        "id": "kSXFRm502X57"
      },
      "execution_count": null,
      "outputs": []
    },
    {
      "cell_type": "code",
      "source": [
        "# Ahora podemos crear una función\n",
        "\n",
        "def add1(x):\n",
        "    \"\"\"\n",
        "    add 1 to x\n",
        "    \"\"\"\n",
        "\n",
        "    b = x + 1;\n",
        "\n",
        "    return b\n",
        "\n",
        "    help(add1)\n",
        "\n"
      ],
      "metadata": {
        "id": "R9m_utJw2gQg"
      },
      "execution_count": null,
      "outputs": []
    },
    {
      "cell_type": "code",
      "source": [
        "add1(9)"
      ],
      "metadata": {
        "id": "YXoDZrR73anC"
      },
      "execution_count": null,
      "outputs": []
    },
    {
      "cell_type": "code",
      "source": [
        "help(add1)"
      ],
      "metadata": {
        "id": "A0oI8VUJ3i0C"
      },
      "execution_count": null,
      "outputs": []
    },
    {
      "cell_type": "code",
      "source": [
        "#para realizar distintos análisis debemos instalar librerias\n",
        "#Una de los formas en que se puede hacer en Python es \"import\"\n",
        "#Un ejemplo\n",
        "\n",
        "import sklearn"
      ],
      "metadata": {
        "id": "xXbnZbc33vdc"
      },
      "execution_count": null,
      "outputs": []
    },
    {
      "cell_type": "code",
      "source": [
        "#algunos nombres de estas librerias los podemos modeficar para facilitar nuestro trabajo\n",
        "\n",
        "import pandas as pd\n"
      ],
      "metadata": {
        "id": "ZM3SYSSmErUB"
      },
      "execution_count": null,
      "outputs": []
    },
    {
      "cell_type": "code",
      "source": [
        "#Se puede hacer elección de la via desde donde se instala"
      ],
      "metadata": {
        "id": "A5o17hiRFIE5"
      },
      "execution_count": null,
      "outputs": []
    },
    {
      "cell_type": "code",
      "source": [
        "from sklearn.ensemble import RandomForestClassifier"
      ],
      "metadata": {
        "id": "n-wgZbsNFeYS"
      },
      "execution_count": null,
      "outputs": []
    },
    {
      "cell_type": "code",
      "source": [
        "rf_classifier = RandomForestClassifier(n_estimators= 100, random_state=42)"
      ],
      "metadata": {
        "id": "AKhJw2U1GH9u"
      },
      "execution_count": null,
      "outputs": []
    },
    {
      "cell_type": "code",
      "source": [
        "data_dict = {\n",
        "    \"Velocidad\": [60, 45, 50, 55],\n",
        "    \"Latitud\": [40.7128, 34.0522, 51.5074, 41.8781],\n",
        "    \"Longitud\": [-74.0060, -118.2437, -0.1278, -87.6298],\n",
        "    \"Comportamiento de Pesca\": [\"Pesca\", \"No pesca\", \"Pesca\", \"No pesca\"]\n",
        "}\n",
        "\n",
        "# Crea un DataFrame a partir del diccionario\n",
        "data = pd.DataFrame(data_dict)"
      ],
      "metadata": {
        "id": "9x4lpjt7GNGq"
      },
      "execution_count": null,
      "outputs": []
    },
    {
      "cell_type": "code",
      "source": [
        "data"
      ],
      "metadata": {
        "id": "aW9hgqsuGS2F"
      },
      "execution_count": null,
      "outputs": []
    },
    {
      "cell_type": "code",
      "source": [
        "X = data[[\"Velocidad\", \"Latitud\", \"Longitud\"]]\n",
        "y = data[\"Comportamiento de Pesca\"]"
      ],
      "metadata": {
        "id": "zSlGX6tVGVTi"
      },
      "execution_count": null,
      "outputs": []
    },
    {
      "cell_type": "code",
      "source": [
        "rf_classifier.fit(X, y)"
      ],
      "metadata": {
        "id": "tQ6HmIpbGcnQ"
      },
      "execution_count": null,
      "outputs": []
    },
    {
      "cell_type": "code",
      "source": [
        "Nuevos_Datos = {\n",
        "    \"Velocidad\": [55, 60, 48, 55],\n",
        "    \"Latitud\": [42.3601, 34.0522, 99.804, 41.8781],\n",
        "    \"Longitud\": [-71.0589, -118.2437, -0.1278, -87.6298],\n",
        "}\n",
        "\n",
        "# Crea un DataFrame a partir del diccionario\n",
        "Nuevos_datos = pd.DataFrame(Nuevos_Datos)"
      ],
      "metadata": {
        "id": "-YbrVrdIGnpV"
      },
      "execution_count": null,
      "outputs": []
    },
    {
      "cell_type": "code",
      "source": [
        "print(Nuevos_datos)"
      ],
      "metadata": {
        "id": "hxpaLRCOGttd"
      },
      "execution_count": null,
      "outputs": []
    },
    {
      "cell_type": "code",
      "source": [
        "predicciones = rf_classifier.predict(Nuevos_datos)"
      ],
      "metadata": {
        "id": "h7wNBoqoGybZ"
      },
      "execution_count": null,
      "outputs": []
    },
    {
      "cell_type": "code",
      "source": [
        "print(\"Predicciones de comportamiento de pesca: \")\n",
        "for i, prediccion in enumerate(predicciones):\n",
        "   print(f\"Datos {i + 1}: {Nuevos_datos.iloc[i]} => Comportamiento: {prediccion}\")"
      ],
      "metadata": {
        "id": "Ztld-3d4HaDb"
      },
      "execution_count": null,
      "outputs": []
    }
  ]
}